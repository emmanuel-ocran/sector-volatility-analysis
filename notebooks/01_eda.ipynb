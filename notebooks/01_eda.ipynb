{
 "cells": [
  {
   "cell_type": "markdown",
   "id": "8e15cbb8",
   "metadata": {},
   "source": [
    "# Sector Volatility Analysis  \n",
    "Author: Emmanuel Ocran  \n",
    "\n",
    "### Project Overview  \n",
    "This project analyzes seven years of historical stock price data from June 1, 2018 to June 1, 2025.\n",
    "\n",
    "The objective is to evaluate volatility and risk-adjusted returns across major sectors in the stock market.\n",
    "\n",
    "This analysis supports portfolio decisions by identifying sectors with higher stability or better performance.\n",
    "\n",
    "### Sectors and Tickers Analyzed  \n",
    "The following sectors and representative stocks are included in the analysis:\n",
    "\n",
    "```python\n",
    "sector_tickers = {\n",
    "    \"Technology\": [\"AAPL\", \"MSFT\", \"NVDA\", \"AMD\"],\n",
    "    \"Energy\": [\"XOM\", \"CVX\", \"COP\", \"HAL\"],\n",
    "    \"Healthcare\": [\"JNJ\", \"PFE\", \"UNH\", \"MRK\"],\n",
    "    \"Financials\": [\"JPM\", \"BAC\", \"WFC\", \"GS\"],\n",
    "    \"Consumer Discretionary\": [\"AMZN\", \"TSLA\", \"HD\", \"MCD\"],\n",
    "    \"Utilities\": [\"NEE\", \"DUK\", \"SO\", \"AEP\"]\n",
    "}\n",
    "```\n",
    "\n",
    "### Key Questions\n",
    "Which sector exhibits the highest level of volatility\n",
    "\n",
    "Which stocks demonstrate the strongest average returns\n",
    "\n",
    "How do different sectors perform during major market events such as the COVID-19 pandemic or inflation shocks\n",
    "\n",
    "### Data Overview\n",
    "The data was collected using the yfinance API and saved as sector-specific CSV files. \n",
    "\n",
    "Each file contains daily adjusted closing prices for four representative stocks per sector.\n",
    "\n",
    "In this notebook, the data will be loaded and combined for exploration. \n",
    "\n",
    "The analysis will include return calculations, volatility trends, and performance comparisons across sectors."
   ]
  }
 ],
 "metadata": {
  "kernelspec": {
   "display_name": ".venv",
   "language": "python",
   "name": "python3"
  },
  "language_info": {
   "codemirror_mode": {
    "name": "ipython",
    "version": 3
   },
   "file_extension": ".py",
   "mimetype": "text/x-python",
   "name": "python",
   "nbconvert_exporter": "python",
   "pygments_lexer": "ipython3",
   "version": "3.13.3"
  }
 },
 "nbformat": 4,
 "nbformat_minor": 5
}
